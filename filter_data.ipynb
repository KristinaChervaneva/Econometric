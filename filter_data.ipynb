{
 "cells": [
  {
   "cell_type": "markdown",
   "metadata": {},
   "source": [
    "data cleaning"
   ]
  },
  {
   "cell_type": "code",
   "execution_count": 1,
   "metadata": {},
   "outputs": [
    {
     "name": "stdout",
     "output_type": "stream",
     "text": [
      "Данные успешно обработаны и сохранены в файл: /Users/k.chervaneva/Desktop/Econometric/filtered_data/felony.csv\n"
     ]
    }
   ],
   "source": [
    "import pandas as pd\n",
    "\n",
    "file_path = '/Users/k.chervaneva/Desktop/Econometric/raw_data/felony.csv' \n",
    "df = pd.read_csv(file_path)\n",
    "\n",
    "crime_total = df[df['Наименование статистического показателя'] == \"Количество преступлений, зарегистрированных в отчетном периоде\"]\n",
    "crime_heavy = df[df['Наименование статистического показателя'] == \"Количество преступлений, зарегистрированных в отчетном периоде, в том числе тяжких и особо тяжких\"]\n",
    "\n",
    "crime_total = crime_total[['Субъект', 'Значение статистического показателя (за январь - декабрь 2022 г.)']].rename(\n",
    "    columns={'Значение статистического показателя (за январь - декабрь 2022 г.)': 'Общее количество преступлений'})\n",
    "crime_heavy = crime_heavy[['Субъект', 'Значение статистического показателя (за январь - декабрь 2022 г.)']].rename(\n",
    "    columns={'Значение статистического показателя (за январь - декабрь 2022 г.)': 'Количество тяжких преступлений'})\n",
    "\n",
    "df_merged = pd.merge(crime_total, crime_heavy, on='Субъект', how='left')\n",
    "\n",
    "output_path = '/Users/k.chervaneva/Desktop/Econometric/filtered_data/felony.csv' \n",
    "df_merged.to_csv(output_path, index=False)\n",
    "\n",
    "print(\"Данные успешно обработаны и сохранены в файл:\", output_path)\n"
   ]
  },
  {
   "cell_type": "code",
   "execution_count": 2,
   "metadata": {},
   "outputs": [],
   "source": [
    "import csv\n",
    "\n",
    "with open('/Users/k.chervaneva/Desktop/Econometric/raw_data/birthrate.csv', 'r', encoding='utf-8') as infile, \\\n",
    "    open('/Users/k.chervaneva/Desktop/Econometric/filtered_data/birthrate.csv', 'w', newline='', encoding='utf-8') as outfile:\n",
    "    reader = csv.reader(infile, delimiter='\\t') \n",
    "    writer = csv.writer(outfile, delimiter=',')  \n",
    "\n",
    "    for row in reader:\n",
    "        if len(row) >= 3: \n",
    "            writer.writerow([row[0], row[2]]) "
   ]
  },
  {
   "cell_type": "code",
   "execution_count": 3,
   "metadata": {},
   "outputs": [],
   "source": [
    "import csv\n",
    "\n",
    "with open('/Users/k.chervaneva/Desktop/Econometric/raw_data/filtered_data_high_education.csv', 'r', encoding='utf-8') as infile, \\\n",
    "    open('/Users/k.chervaneva/Desktop/Econometric/filtered_data/high_education.csv', 'w', newline='', encoding='utf-8') as outfile:\n",
    "    reader = csv.DictReader(infile)  \n",
    "    writer = csv.writer(outfile) \n",
    "    \n",
    "    writer.writerow(['Region', 'high_education'])\n",
    "    \n",
    "    for row in reader:\n",
    "        region = row['area'] \n",
    "        value = row['value'] \n",
    "        \n",
    "        writer.writerow([region, value]) "
   ]
  },
  {
   "cell_type": "code",
   "execution_count": 4,
   "metadata": {},
   "outputs": [],
   "source": [
    "import csv\n",
    "\n",
    "with open('/Users/k.chervaneva/Desktop/Econometric/raw_data/population.csv', 'r', encoding='utf-8') as infile, \\\n",
    "    open('/Users/k.chervaneva/Desktop/Econometric/filtered_data/population.csv', 'w', newline='', encoding='utf-8') as outfile:\n",
    "    reader = csv.reader(infile, delimiter='\\t') \n",
    "    writer = csv.writer(outfile, delimiter=',')  \n",
    "\n",
    "    for row in reader:\n",
    "        if len(row) >= 2: \n",
    "            writer.writerow([row[0], row[1]]) \n"
   ]
  },
  {
   "cell_type": "code",
   "execution_count": 8,
   "metadata": {},
   "outputs": [],
   "source": [
    "import csv\n",
    "\n",
    "with open('/Users/k.chervaneva/Desktop/Econometric/raw_data/revenue.csv', 'r', encoding='utf-8') as infile, \\\n",
    "    open('/Users/k.chervaneva/Desktop/Econometric/filtered_data/revenue.csv', 'w', newline='', encoding='utf-8') as outfile:\n",
    "    reader = csv.reader(infile, delimiter='\\t') \n",
    "    writer = csv.writer(outfile, delimiter=',')  \n",
    "\n",
    "    for row in reader:\n",
    "        if len(row) >= 2: \n",
    "            writer.writerow([row[0], row[1]]) \n"
   ]
  },
  {
   "cell_type": "code",
   "execution_count": 6,
   "metadata": {},
   "outputs": [],
   "source": [
    "import csv\n",
    "\n",
    "with open('/Users/k.chervaneva/Desktop/Econometric/raw_data/unemployment.csv', 'r', encoding='utf-8') as infile, \\\n",
    "    open('/Users/k.chervaneva/Desktop/Econometric/filtered_data/unemployment.csv', 'w', newline='', encoding='utf-8') as outfile:\n",
    "    reader = csv.reader(infile, delimiter='\\t') \n",
    "    writer = csv.writer(outfile, delimiter=',')  \n",
    "\n",
    "    for row in reader:\n",
    "        if len(row) >= 2: \n",
    "            writer.writerow([row[0], row[1]]) "
   ]
  }
 ],
 "metadata": {
  "kernelspec": {
   "display_name": "Python 3",
   "language": "python",
   "name": "python3"
  },
  "language_info": {
   "codemirror_mode": {
    "name": "ipython",
    "version": 3
   },
   "file_extension": ".py",
   "mimetype": "text/x-python",
   "name": "python",
   "nbconvert_exporter": "python",
   "pygments_lexer": "ipython3",
   "version": "3.9.6"
  }
 },
 "nbformat": 4,
 "nbformat_minor": 2
}
